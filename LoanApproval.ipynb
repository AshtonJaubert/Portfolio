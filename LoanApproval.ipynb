{
 "cells": [
  {
   "cell_type": "markdown",
   "metadata": {},
   "source": [
    "# House Loan Prediction\n",
    "\n",
    "In this Project I will be creating different supervised learning algorithms such as Logistic Regression, SVM,Decision Tree,K Nearest Neighbors,Random Forest and XGBoost to predict Housing loan approvals based on factors such as credit score, # of dependents and education etc.\n",
    "\n",
    "The dataset for this Project can be found [here](https://www.kaggle.com/datasets/architsharma01/loan-approval-prediction-dataset/data)"
   ]
  },
  {
   "cell_type": "markdown",
   "metadata": {},
   "source": [
    "Import Required Libaries:"
   ]
  },
  {
   "cell_type": "code",
   "execution_count": 87,
   "metadata": {},
   "outputs": [],
   "source": [
    "import matplotlib.pyplot as plt\n",
    "import pandas as pd\n",
    "import numpy as np\n",
    "import seaborn as sns \n",
    "from sklearn.preprocessing import StandardScaler\n",
    "from sklearn.model_selection import train_test_split\n",
    "from sklearn.linear_model import LogisticRegression\n",
    "from sklearn.metrics import precision_score, recall_score, f1_score, accuracy_score, classification_report, confusion_matrix\n",
    "from sklearn.preprocessing import LabelEncoder\n",
    "from sklearn.svm import SVC\n",
    "from sklearn.tree import DecisionTreeClassifier\n",
    "from sklearn.neighbors import KNeighborsClassifier\n",
    "from sklearn.ensemble import RandomForestClassifier\n",
    "from xgboost import XGBClassifier"
   ]
  },
  {
   "cell_type": "markdown",
   "metadata": {},
   "source": [
    "# Data Cleaning:"
   ]
  },
  {
   "cell_type": "code",
   "execution_count": 72,
   "metadata": {},
   "outputs": [
    {
     "data": {
      "text/html": [
       "<div>\n",
       "<style scoped>\n",
       "    .dataframe tbody tr th:only-of-type {\n",
       "        vertical-align: middle;\n",
       "    }\n",
       "\n",
       "    .dataframe tbody tr th {\n",
       "        vertical-align: top;\n",
       "    }\n",
       "\n",
       "    .dataframe thead th {\n",
       "        text-align: right;\n",
       "    }\n",
       "</style>\n",
       "<table border=\"1\" class=\"dataframe\">\n",
       "  <thead>\n",
       "    <tr style=\"text-align: right;\">\n",
       "      <th></th>\n",
       "      <th>loan_id</th>\n",
       "      <th>no_of_dependents</th>\n",
       "      <th>education</th>\n",
       "      <th>self_employed</th>\n",
       "      <th>income_annum</th>\n",
       "      <th>loan_amount</th>\n",
       "      <th>loan_term</th>\n",
       "      <th>cibil_score</th>\n",
       "      <th>residential_assets_value</th>\n",
       "      <th>commercial_assets_value</th>\n",
       "      <th>luxury_assets_value</th>\n",
       "      <th>bank_asset_value</th>\n",
       "      <th>loan_status</th>\n",
       "    </tr>\n",
       "  </thead>\n",
       "  <tbody>\n",
       "    <tr>\n",
       "      <th>0</th>\n",
       "      <td>1</td>\n",
       "      <td>2</td>\n",
       "      <td>Graduate</td>\n",
       "      <td>No</td>\n",
       "      <td>9600000</td>\n",
       "      <td>29900000</td>\n",
       "      <td>12</td>\n",
       "      <td>778</td>\n",
       "      <td>2400000</td>\n",
       "      <td>17600000</td>\n",
       "      <td>22700000</td>\n",
       "      <td>8000000</td>\n",
       "      <td>Approved</td>\n",
       "    </tr>\n",
       "    <tr>\n",
       "      <th>1</th>\n",
       "      <td>2</td>\n",
       "      <td>0</td>\n",
       "      <td>Not Graduate</td>\n",
       "      <td>Yes</td>\n",
       "      <td>4100000</td>\n",
       "      <td>12200000</td>\n",
       "      <td>8</td>\n",
       "      <td>417</td>\n",
       "      <td>2700000</td>\n",
       "      <td>2200000</td>\n",
       "      <td>8800000</td>\n",
       "      <td>3300000</td>\n",
       "      <td>Rejected</td>\n",
       "    </tr>\n",
       "    <tr>\n",
       "      <th>2</th>\n",
       "      <td>3</td>\n",
       "      <td>3</td>\n",
       "      <td>Graduate</td>\n",
       "      <td>No</td>\n",
       "      <td>9100000</td>\n",
       "      <td>29700000</td>\n",
       "      <td>20</td>\n",
       "      <td>506</td>\n",
       "      <td>7100000</td>\n",
       "      <td>4500000</td>\n",
       "      <td>33300000</td>\n",
       "      <td>12800000</td>\n",
       "      <td>Rejected</td>\n",
       "    </tr>\n",
       "    <tr>\n",
       "      <th>3</th>\n",
       "      <td>4</td>\n",
       "      <td>3</td>\n",
       "      <td>Graduate</td>\n",
       "      <td>No</td>\n",
       "      <td>8200000</td>\n",
       "      <td>30700000</td>\n",
       "      <td>8</td>\n",
       "      <td>467</td>\n",
       "      <td>18200000</td>\n",
       "      <td>3300000</td>\n",
       "      <td>23300000</td>\n",
       "      <td>7900000</td>\n",
       "      <td>Rejected</td>\n",
       "    </tr>\n",
       "    <tr>\n",
       "      <th>4</th>\n",
       "      <td>5</td>\n",
       "      <td>5</td>\n",
       "      <td>Not Graduate</td>\n",
       "      <td>Yes</td>\n",
       "      <td>9800000</td>\n",
       "      <td>24200000</td>\n",
       "      <td>20</td>\n",
       "      <td>382</td>\n",
       "      <td>12400000</td>\n",
       "      <td>8200000</td>\n",
       "      <td>29400000</td>\n",
       "      <td>5000000</td>\n",
       "      <td>Rejected</td>\n",
       "    </tr>\n",
       "  </tbody>\n",
       "</table>\n",
       "</div>"
      ],
      "text/plain": [
       "   loan_id   no_of_dependents      education  self_employed   income_annum  \\\n",
       "0        1                  2       Graduate             No        9600000   \n",
       "1        2                  0   Not Graduate            Yes        4100000   \n",
       "2        3                  3       Graduate             No        9100000   \n",
       "3        4                  3       Graduate             No        8200000   \n",
       "4        5                  5   Not Graduate            Yes        9800000   \n",
       "\n",
       "    loan_amount   loan_term   cibil_score   residential_assets_value  \\\n",
       "0      29900000          12           778                    2400000   \n",
       "1      12200000           8           417                    2700000   \n",
       "2      29700000          20           506                    7100000   \n",
       "3      30700000           8           467                   18200000   \n",
       "4      24200000          20           382                   12400000   \n",
       "\n",
       "    commercial_assets_value   luxury_assets_value   bank_asset_value  \\\n",
       "0                  17600000              22700000            8000000   \n",
       "1                   2200000               8800000            3300000   \n",
       "2                   4500000              33300000           12800000   \n",
       "3                   3300000              23300000            7900000   \n",
       "4                   8200000              29400000            5000000   \n",
       "\n",
       "   loan_status  \n",
       "0     Approved  \n",
       "1     Rejected  \n",
       "2     Rejected  \n",
       "3     Rejected  \n",
       "4     Rejected  "
      ]
     },
     "execution_count": 72,
     "metadata": {},
     "output_type": "execute_result"
    }
   ],
   "source": [
    "df = pd.read_csv('~/Documents/loan_approval_dataset.csv')\n",
    "df = df.dropna()\n",
    "df.head(5)"
   ]
  },
  {
   "cell_type": "code",
   "execution_count": 73,
   "metadata": {},
   "outputs": [
    {
     "name": "stdout",
     "output_type": "stream",
     "text": [
      "<class 'pandas.core.frame.DataFrame'>\n",
      "RangeIndex: 4269 entries, 0 to 4268\n",
      "Data columns (total 13 columns):\n",
      " #   Column                     Non-Null Count  Dtype \n",
      "---  ------                     --------------  ----- \n",
      " 0   loan_id                    4269 non-null   int64 \n",
      " 1    no_of_dependents          4269 non-null   int64 \n",
      " 2    education                 4269 non-null   object\n",
      " 3    self_employed             4269 non-null   object\n",
      " 4    income_annum              4269 non-null   int64 \n",
      " 5    loan_amount               4269 non-null   int64 \n",
      " 6    loan_term                 4269 non-null   int64 \n",
      " 7    cibil_score               4269 non-null   int64 \n",
      " 8    residential_assets_value  4269 non-null   int64 \n",
      " 9    commercial_assets_value   4269 non-null   int64 \n",
      " 10   luxury_assets_value       4269 non-null   int64 \n",
      " 11   bank_asset_value          4269 non-null   int64 \n",
      " 12   loan_status               4269 non-null   object\n",
      "dtypes: int64(10), object(3)\n",
      "memory usage: 433.7+ KB\n"
     ]
    }
   ],
   "source": [
    "df.info()"
   ]
  },
  {
   "cell_type": "code",
   "execution_count": 74,
   "metadata": {},
   "outputs": [],
   "source": [
    "#dropping the 'loan_id' column as it is not needed for our ML model\n",
    "df.drop(columns=['loan_id'], inplace=True)\n"
   ]
  },
  {
   "cell_type": "code",
   "execution_count": 75,
   "metadata": {},
   "outputs": [
    {
     "name": "stdout",
     "output_type": "stream",
     "text": [
      "Index(['no_of_dependents', 'education', 'self_employed', 'income_annum',\n",
      "       'loan_amount', 'loan_term', 'cibil_score', 'residential_assets_value',\n",
      "       'commercial_assets_value', 'luxury_assets_value', 'bank_asset_value',\n",
      "       'loan_status'],\n",
      "      dtype='object')\n"
     ]
    }
   ],
   "source": [
    "# removing spaces ahead of column names\n",
    "df.rename(columns=lambda x: x.strip(),inplace=True)\n",
    "print(df.columns)"
   ]
  },
  {
   "cell_type": "code",
   "execution_count": 76,
   "metadata": {},
   "outputs": [
    {
     "name": "stdout",
     "output_type": "stream",
     "text": [
      "      education  loan_status  self_employed\n",
      "0             0            0              0\n",
      "1             1            1              1\n",
      "2             0            1              0\n",
      "3             0            1              0\n",
      "4             1            1              1\n",
      "...         ...          ...            ...\n",
      "4264          0            1              1\n",
      "4265          1            0              1\n",
      "4266          1            1              0\n",
      "4267          1            0              0\n",
      "4268          0            0              0\n",
      "\n",
      "[4269 rows x 3 columns]\n"
     ]
    }
   ],
   "source": [
    "label_encoder = LabelEncoder()\n",
    "#creating a LabelEncoder for columns loan_status, self_employed, education\n",
    "df['loan_status'] = label_encoder.fit_transform(df['loan_status'])\n",
    "df['education'] = label_encoder.fit_transform(df['education'])\n",
    "df['self_employed'] = label_encoder.fit_transform(df['self_employed'])\n",
    "print(df[['education','loan_status','self_employed']])\n"
   ]
  },
  {
   "cell_type": "code",
   "execution_count": 77,
   "metadata": {},
   "outputs": [
    {
     "data": {
      "text/plain": [
       "no_of_dependents            int64\n",
       "education                   int64\n",
       "self_employed               int64\n",
       "income_annum                int64\n",
       "loan_amount                 int64\n",
       "loan_term                   int64\n",
       "cibil_score                 int64\n",
       "residential_assets_value    int64\n",
       "commercial_assets_value     int64\n",
       "luxury_assets_value         int64\n",
       "bank_asset_value            int64\n",
       "loan_status                 int64\n",
       "dtype: object"
      ]
     },
     "execution_count": 77,
     "metadata": {},
     "output_type": "execute_result"
    }
   ],
   "source": [
    "df.dtypes\n",
    "# all columns should be int datatype"
   ]
  },
  {
   "cell_type": "code",
   "execution_count": 78,
   "metadata": {},
   "outputs": [
    {
     "name": "stdout",
     "output_type": "stream",
     "text": [
      "Scaled Variables\n",
      "   no_of_dependents  education  self_employed  income_annum  loan_amount  \\\n",
      "0         -0.294102  -0.995559      -1.007288      1.617979     1.633052   \n",
      "1         -1.473548   1.004461       0.992765     -0.341750    -0.324414   \n",
      "2          0.295621  -0.995559      -1.007288      1.439822     1.610933   \n",
      "3          0.295621  -0.995559      -1.007288      1.119139     1.721525   \n",
      "4          1.475067   1.004461       0.992765      1.689242     1.002681   \n",
      "\n",
      "   loan_term  cibil_score  residential_assets_value  commercial_assets_value  \\\n",
      "0   0.192617     1.032792                 -0.780058                 2.877289   \n",
      "1  -0.508091    -1.061051                 -0.733924                -0.631921   \n",
      "2   1.594031    -0.544840                 -0.057300                -0.107818   \n",
      "3  -0.508091    -0.771045                  1.649637                -0.381263   \n",
      "4   1.594031    -1.264055                  0.757724                 0.735304   \n",
      "\n",
      "   luxury_assets_value  bank_asset_value  \n",
      "0             0.832028          0.930304  \n",
      "1            -0.694993         -0.515936  \n",
      "2             1.996520          2.407316  \n",
      "3             0.897943          0.899533  \n",
      "4             1.568075          0.007172  \n",
      "Target Variables\n",
      "0    0\n",
      "1    1\n",
      "2    1\n",
      "3    1\n",
      "4    1\n",
      "Name: loan_status, dtype: int64\n"
     ]
    }
   ],
   "source": [
    "#created a StandardScaler for all columns except loan_status, as this is our target Variable\n",
    "scaler = StandardScaler()\n",
    "\n",
    "x = df.drop(columns=['loan_status'])\n",
    "y = df['loan_status']\n",
    "\n",
    "numerical_columns = ['no_of_dependents', 'education', 'self_employed',\n",
    "       'income_annum', 'loan_amount', 'loan_term', 'cibil_score',\n",
    "       'residential_assets_value', 'commercial_assets_value',\n",
    "       'luxury_assets_value', 'bank_asset_value']\n",
    "x[numerical_columns] = scaler.fit_transform(x[numerical_columns])\n",
    "print(\"Scaled Variables\")\n",
    "print(x.head())\n",
    "print(\"Target Variables\")\n",
    "print(y.head())"
   ]
  },
  {
   "cell_type": "code",
   "execution_count": 79,
   "metadata": {},
   "outputs": [],
   "source": [
    "#create train and test variables\n",
    "x_train, x_test, y_train, y_test = train_test_split(x, y, test_size=0.5, random_state=50)\n"
   ]
  },
  {
   "cell_type": "markdown",
   "metadata": {},
   "source": [
    "# LogisticRegression"
   ]
  },
  {
   "cell_type": "code",
   "execution_count": 80,
   "metadata": {},
   "outputs": [
    {
     "data": {
      "image/png": "[encoded data removed]",
      "text/plain": [
       "<Figure size 640x480 with 2 Axes>"
      ]
     },
     "metadata": {},
     "output_type": "display_data"
    },
    {
     "name": "stdout",
     "output_type": "stream",
     "text": [
      "Accuracy 0.9175644028103045\n",
      "Precision 0.9172722667377614\n",
      "Recall 0.9175644028103045\n",
      "F1 Score 0.9172942280935785\n",
      "Classification Report               precision    recall  f1-score   support\n",
      "\n",
      "           0       0.93      0.94      0.94      1344\n",
      "           1       0.90      0.87      0.89       791\n",
      "\n",
      "    accuracy                           0.92      2135\n",
      "   macro avg       0.91      0.91      0.91      2135\n",
      "weighted avg       0.92      0.92      0.92      2135\n",
      "\n"
     ]
    }
   ],
   "source": [
    "\n",
    "logistic_reg = LogisticRegression(random_state=50)\n",
    "\n",
    "logistic_reg.fit(x_train, y_train)\n",
    "\n",
    "y_pred1 = logistic_reg.predict(x_test)\n",
    "\n",
    "accuracy = accuracy_score(y_test, y_pred1)\n",
    "\n",
    "precision = precision_score(y_test, y_pred1, average='weighted')\n",
    "recall = recall_score(y_test,y_pred1, average='weighted')\n",
    "f1 = f1_score(y_test,y_pred1, average='weighted')\n",
    "\n",
    "classification_rep = classification_report(y_test,y_pred1)\n",
    "conf_matrix = confusion_matrix(y_test,y_pred1)\n",
    "\n",
    "sns.heatmap(conf_matrix, annot=True, fmt='d',cmap='Greens')\n",
    "plt.xlabel('Predicted')\n",
    "plt.ylabel('actual')\n",
    "plt.title('Confusion Matrix')\n",
    "plt.show()\n",
    "\n",
    "print(\"Accuracy\", accuracy)\n",
    "print(\"Precision\", precision)\n",
    "print(\"Recall\", recall)\n",
    "print(\"F1 Score\", f1)\n",
    "\n",
    "\n",
    "print(\"Classification Report\", classification_rep)\n"
   ]
  },
  {
   "cell_type": "markdown",
   "metadata": {},
   "source": [
    "# RandomForest"
   ]
  },
  {
   "cell_type": "code",
   "execution_count": 81,
   "metadata": {},
   "outputs": [
    {
     "data": {
      "image/png": "[encoded data removed]",
      "text/plain": [
       "<Figure size 800x600 with 2 Axes>"
      ]
     },
     "metadata": {},
     "output_type": "display_data"
    },
    {
     "name": "stdout",
     "output_type": "stream",
     "text": [
      "Accuracy 0.9812646370023419\n",
      "Precision 0.9813028898497527\n",
      "Recall 0.9812646370023419\n",
      "F1 Score 0.9812243564037277\n",
      "Classification Report               precision    recall  f1-score   support\n",
      "\n",
      "           0       0.98      0.99      0.99      1344\n",
      "           1       0.98      0.96      0.97       791\n",
      "\n",
      "    accuracy                           0.98      2135\n",
      "   macro avg       0.98      0.98      0.98      2135\n",
      "weighted avg       0.98      0.98      0.98      2135\n",
      "\n"
     ]
    }
   ],
   "source": [
    "random_forest = RandomForestClassifier(random_state=50)\n",
    "\n",
    "random_forest.fit(x_train,y_train)\n",
    "\n",
    "RF_y_pred = random_forest.predict(x_test)\n",
    "RF_accuracy = accuracy_score(y_test, RF_y_pred)\n",
    "RF_precision = precision_score(y_test, RF_y_pred, average='weighted')\n",
    "RF_recall = recall_score(y_test, RF_y_pred, average='weighted')\n",
    "RF_f1 = f1_score(y_test, RF_y_pred, average='weighted')\n",
    "\n",
    "RF_classification_rep = classification_report(y_test, RF_y_pred)\n",
    "\n",
    "RF_conf_matrix = confusion_matrix(y_test, y_pred)\n",
    "\n",
    "plt.figure(figsize=(8,6))\n",
    "sns.heatmap(RF_conf_matrix, annot=True, fmt='d', cmap='Reds')\n",
    "\n",
    "plt.xlabel('Predicted')\n",
    "plt.ylabel('actual')\n",
    "plt.title('Random Forest')\n",
    "plt.show()\n",
    "\n",
    "print(\"Accuracy\", RF_accuracy)\n",
    "print(\"Precision\", RF_precision)\n",
    "print(\"Recall\", RF_recall)\n",
    "print(\"F1 Score\", RF_f1)\n",
    "\n",
    "\n",
    "print(\"Classification Report\", RF_classification_rep)\n",
    "\n"
   ]
  },
  {
   "cell_type": "markdown",
   "metadata": {},
   "source": [
    "# Decision Tree"
   ]
  },
  {
   "cell_type": "code",
   "execution_count": 86,
   "metadata": {},
   "outputs": [
    {
     "data": {
      "image/png": "[encoded data removed]",
      "text/plain": [
       "<Figure size 640x480 with 2 Axes>"
      ]
     },
     "metadata": {},
     "output_type": "display_data"
    },
    {
     "name": "stdout",
     "output_type": "stream",
     "text": [
      "Decision Tree Classifier Metrics:\n",
      "Accuracy: 0.9779859484777518\n",
      "Precision: 0.9779727976309731\n",
      "Recall: 0.9779859484777518\n",
      "F1 Score: 0.9779773067576232\n",
      "Classification Report               precision    recall  f1-score   support\n",
      "\n",
      "           0       0.98      0.98      0.98      1344\n",
      "           1       0.97      0.97      0.97       791\n",
      "\n",
      "    accuracy                           0.98      2135\n",
      "   macro avg       0.98      0.98      0.98      2135\n",
      "weighted avg       0.98      0.98      0.98      2135\n",
      "\n"
     ]
    }
   ],
   "source": [
    "decision_tree = DecisionTreeClassifier(random_state=50)\n",
    "\n",
    "decision_tree.fit(x_train,y_train)\n",
    "\n",
    "DT_y_pred = decision_tree.predict(x_test)\n",
    "\n",
    "DT_accuracy = accuracy_score(y_test, DT_y_pred)\n",
    "\n",
    "DT_precision = precision_score(y_test, DT_y_pred, average='weighted')\n",
    "DT_recall = recall_score(y_test, DT_y_pred, average='weighted')\n",
    "DT_f1 = f1_score(y_test, DT_y_pred, average='weighted')\n",
    "\n",
    "DT_classification_rep = classification_report(y_test, DT_y_pred)\n",
    "\n",
    "DT_conf_matrix = confusion_matrix(y_test, DT_y_pred)\n",
    "\n",
    "\n",
    "sns.heatmap(DT_conf_matrix, annot=True, fmt='d',cmap='Oranges')\n",
    "plt.ylabel('Actual')\n",
    "plt.title('Confusion Matrix')\n",
    "plt.show()\n",
    "\n",
    "print(\"Decision Tree Classifier Metrics:\")\n",
    "print(\"Accuracy:\", DT_accuracy)\n",
    "print(\"Precision:\", DT_precision)\n",
    "print(\"Recall:\", DT_recall)\n",
    "print(\"F1 Score:\", DT_f1)\n",
    "\n",
    "\n",
    "print(\"Classification Report\", DT_classification_rep)\n",
    "\n",
    "\n"
   ]
  },
  {
   "cell_type": "markdown",
   "metadata": {},
   "source": [
    "# SVM"
   ]
  },
  {
   "cell_type": "code",
   "execution_count": 83,
   "metadata": {},
   "outputs": [
    {
     "data": {
      "image/png": "[encoded data removed]",
      "text/plain": [
       "<Figure size 640x480 with 2 Axes>"
      ]
     },
     "metadata": {},
     "output_type": "display_data"
    },
    {
     "name": "stdout",
     "output_type": "stream",
     "text": [
      "SVM Classifier Metrics:\n",
      "Accuracy: 0.9306791569086651\n",
      "Precision: 0.9307167973117986\n",
      "Recall: 0.9306791569086651\n",
      "F1 Score: 0.9306971118605214\n",
      "Classification Report               precision    recall  f1-score   support\n",
      "\n",
      "           0       0.95      0.94      0.94      1344\n",
      "           1       0.91      0.91      0.91       791\n",
      "\n",
      "    accuracy                           0.93      2135\n",
      "   macro avg       0.93      0.93      0.93      2135\n",
      "weighted avg       0.93      0.93      0.93      2135\n",
      "\n"
     ]
    }
   ],
   "source": [
    "from sklearn.svm import SVC \n",
    "\n",
    "svm_classifier = SVC(random_state=50)\n",
    "\n",
    "svm_classifier.fit(x_train,y_train)\n",
    "\n",
    "svm_y_pred = svm_classifier.predict(x_test)\n",
    "\n",
    "svm_accuracy = accuracy_score(y_test,svm_y_pred)\n",
    "\n",
    "svm_precision = precision_score(y_test, svm_y_pred, average='weighted')\n",
    "svm_recall = recall_score(y_test, svm_y_pred, average='weighted')\n",
    "svm_f1 = f1_score(y_test, svm_y_pred, average='weighted')\n",
    "\n",
    "svm_classification_rep = classification_report(y_test, svm_y_pred)\n",
    "\n",
    "svm_conf_matrix = confusion_matrix(y_test,svm_y_pred)\n",
    "\n",
    "\n",
    "sns.heatmap(svm_conf_matrix, annot=True, fmt='d', cmap='rocket')\n",
    "plt.xlabel('Predicted')\n",
    "plt.ylabel('Actual')\n",
    "plt.title('Confusion Matrix')\n",
    "plt.show()\n",
    "\n",
    "\n",
    "print(\"SVM Classifier Metrics:\")\n",
    "print(\"Accuracy:\", svm_accuracy)\n",
    "print(\"Precision:\", svm_precision)\n",
    "print(\"Recall:\", svm_recall)\n",
    "print(\"F1 Score:\", svm_f1)\n",
    "\n",
    "print(\"Classification Report\", svm_classification_rep)\n"
   ]
  },
  {
   "cell_type": "markdown",
   "metadata": {},
   "source": [
    "# KNeighbors"
   ]
  },
  {
   "cell_type": "code",
   "execution_count": 84,
   "metadata": {},
   "outputs": [
    {
     "data": {
      "image/png": "[encoded data removed]",
      "text/plain": [
       "<Figure size 640x480 with 2 Axes>"
      ]
     },
     "metadata": {},
     "output_type": "display_data"
    },
    {
     "name": "stdout",
     "output_type": "stream",
     "text": [
      "K-Nearest Neighbors Classifier Metrics:\n",
      "Accuracy: 0.8889929742388759\n",
      "Precision: 0.8884725196154311\n",
      "Recall: 0.8889929742388759\n",
      "F1 Score: 0.888581216285048\n",
      "Classification Report               precision    recall  f1-score   support\n",
      "\n",
      "           0       0.90      0.92      0.91      1344\n",
      "           1       0.86      0.83      0.85       791\n",
      "\n",
      "    accuracy                           0.89      2135\n",
      "   macro avg       0.88      0.88      0.88      2135\n",
      "weighted avg       0.89      0.89      0.89      2135\n",
      "\n"
     ]
    }
   ],
   "source": [
    "knn_clasifier = KNeighborsClassifier(n_neighbors =5)\n",
    "\n",
    "knn_clasifier.fit(x_train,y_train)\n",
    "\n",
    "knn_y_pred = knn_clasifier.predict(x_test)\n",
    "\n",
    "knn_accuracy = accuracy_score(y_test,knn_y_pred)\n",
    "\n",
    "knn_precision = precision_score(y_test,knn_y_pred, average=\"weighted\")\n",
    "knn_recall = recall_score(y_test,knn_y_pred, average=\"weighted\")\n",
    "knn_f1 = f1_score(y_test,knn_y_pred, average=\"weighted\")\n",
    "\n",
    "knn_classification_rep = classification_report(y_test,knn_y_pred)\n",
    "\n",
    "knn_conn_matrix = confusion_matrix(y_test,knn_y_pred)\n",
    "\n",
    "\n",
    "sns.heatmap(knn_conn_matrix, annot=True, fmt='d', cmap='flare')\n",
    "plt.xlabel('Predicted')\n",
    "plt.ylabel('Actual')\n",
    "plt.title('Confusion Matrix')\n",
    "plt.show()\n",
    "\n",
    "# Print evaluation metrics separately\n",
    "print(\"K-Nearest Neighbors Classifier Metrics:\")\n",
    "print(\"Accuracy:\", knn_accuracy)\n",
    "print(\"Precision:\", knn_precision)\n",
    "print(\"Recall:\", knn_recall)\n",
    "print(\"F1 Score:\", knn_f1)\n",
    "\n",
    "\n",
    "print(\"Classification Report\", knn_classification_rep)"
   ]
  },
  {
   "cell_type": "markdown",
   "metadata": {},
   "source": [
    "# XGBoost"
   ]
  },
  {
   "cell_type": "code",
   "execution_count": 85,
   "metadata": {},
   "outputs": [
    {
     "data": {
      "image/png": "[encoded data removed]",
      "text/plain": [
       "<Figure size 640x480 with 2 Axes>"
      ]
     },
     "metadata": {},
     "output_type": "display_data"
    },
    {
     "name": "stdout",
     "output_type": "stream",
     "text": [
      "XGBoost Classifier Metrics:\n",
      "Accuracy: 0.9807962529274005\n",
      "Precision: 0.9807834035678318\n",
      "Recall: 0.9807962529274005\n",
      "F1 Score: 0.980778517865169\n",
      "Classification Report               precision    recall  f1-score   support\n",
      "\n",
      "           0       0.98      0.99      0.98      1344\n",
      "           1       0.98      0.97      0.97       791\n",
      "\n",
      "    accuracy                           0.98      2135\n",
      "   macro avg       0.98      0.98      0.98      2135\n",
      "weighted avg       0.98      0.98      0.98      2135\n",
      "\n"
     ]
    }
   ],
   "source": [
    "xgb_classifier = XGBClassifier(random_state=50)\n",
    "\n",
    "xgb_classifier.fit(x_train,y_train)\n",
    "\n",
    "y_pred = xgb_classifier.predict(x_test)\n",
    "\n",
    "xgb_accuracy = accuracy_score(y_test,y_pred)\n",
    "\n",
    "xgb_precision = precision_score(y_test, y_pred, average=\"weighted\")\n",
    "xgb_recall = recall_score(y_test,y_pred, average=\"weighted\")\n",
    "xgb_f1 = f1_score(y_test,y_pred, average=\"weighted\")\n",
    "\n",
    "xgb_classification_rep = classification_report(y_test,y_pred)\n",
    "\n",
    "xgb_conn_matrix = confusion_matrix(y_test,y_pred)\n",
    "\n",
    "sns.heatmap(xgb_conn_matrix, annot=True, fmt='d', cmap='Blues')\n",
    "plt.xlabel('Predicted')\n",
    "plt.ylabel('Actual')\n",
    "plt.title('Confusion Matrix')\n",
    "plt.show()\n",
    "\n",
    "\n",
    "print(\"XGBoost Classifier Metrics:\")\n",
    "print(\"Accuracy:\", xgb_accuracy)\n",
    "print(\"Precision:\", xgb_precision)\n",
    "print(\"Recall:\", xgb_recall)\n",
    "print(\"F1 Score:\", xgb_f1)\n",
    "\n",
    "\n",
    "print(\"Classification Report\", xgb_classification_rep)"
   ]
  },
  {
   "cell_type": "markdown",
   "metadata": {},
   "source": [
    "# Conclusion:\n",
    "XGBoost and Random Forest are the best models to use as they scored 98%+ accuracy score.While KNeighbors and Logisitc Regression were the worst models with accuracy scores just over 90%"
   ]
  }
 ],
 "metadata": {
  "kernelspec": {
   "display_name": "Python 3",
   "language": "python",
   "name": "python3"
  },
  "language_info": {
   "codemirror_mode": {
    "name": "ipython",
    "version": 3
   },
   "file_extension": ".py",
   "mimetype": "text/x-python",
   "name": "python",
   "nbconvert_exporter": "python",
   "pygments_lexer": "ipython3",
   "version": "3.10.11"
  }
 },
 "nbformat": 4,
 "nbformat_minor": 2
}
