{
 "cells": [
  {
   "cell_type": "markdown",
   "metadata": {},
   "source": [
    "# Porfolio Optimization:\n",
    "Today we will be optimizing a porfolio using Sharpe Ratio"
   ]
  },
  {
   "cell_type": "code",
   "execution_count": null,
   "metadata": {},
   "outputs": [],
   "source": [
    "import pandas as pd \n",
    "from datetime import datetime, timedelta\n",
    "import numpy as np\n",
    "from scipy.optimize import minimize\n",
    "import yfinance as yf"
   ]
  },
  {
   "cell_type": "markdown",
   "metadata": {},
   "source": [
    "## Download Tickers and close prices"
   ]
  },
  {
   "cell_type": "code",
   "execution_count": 2,
   "metadata": {},
   "outputs": [
    {
     "name": "stdout",
     "output_type": "stream",
     "text": [
      "2019-11-23 17:09:18.877066\n",
      "2024-11-21 17:09:18.877066\n"
     ]
    }
   ],
   "source": [
    "tickers = ['ZB=F','^TYX','TSLA','SPY','QQQ']\n",
    "end_date = datetime.today()\n",
    "start_date  = end_date - timedelta(days=(5 * 365))\n",
    "print(start_date)\n",
    "print(end_date)"
   ]
  },
  {
   "cell_type": "code",
   "execution_count": 3,
   "metadata": {},
   "outputs": [],
   "source": [
    "adj_close_df = pd.DataFrame()"
   ]
  },
  {
   "cell_type": "code",
   "execution_count": 4,
   "metadata": {},
   "outputs": [
    {
     "name": "stderr",
     "output_type": "stream",
     "text": [
      "[*********************100%***********************]  1 of 1 completed\n",
      "[*********************100%***********************]  1 of 1 completed\n",
      "[*********************100%***********************]  1 of 1 completed\n",
      "[*********************100%***********************]  1 of 1 completed\n",
      "[*********************100%***********************]  1 of 1 completed\n"
     ]
    }
   ],
   "source": [
    "for ticker in tickers:\n",
    "    data = yf.download(ticker,start=start_date,end=end_date)\n",
    "    adj_close_df[ticker] = data['Adj Close']"
   ]
  },
  {
   "cell_type": "code",
   "execution_count": 5,
   "metadata": {},
   "outputs": [
    {
     "name": "stdout",
     "output_type": "stream",
     "text": [
      "                                ZB=F   ^TYX        TSLA         SPY  \\\n",
      "Date                                                                  \n",
      "2019-11-25 00:00:00+00:00  160.06250  2.207   22.422667  290.084625   \n",
      "2019-11-26 00:00:00+00:00  160.59375  2.178   21.927999  290.741882   \n",
      "2019-11-27 00:00:00+00:00  160.09375  2.193   22.086000  292.037811   \n",
      "2019-11-29 00:00:00+00:00  159.75000  2.202   21.996000  290.954803   \n",
      "2019-12-02 00:00:00+00:00  158.18750  2.285   22.324667  288.483154   \n",
      "...                              ...    ...         ...         ...   \n",
      "2024-11-15 00:00:00+00:00  116.31250  4.601  320.720001  585.750000   \n",
      "2024-11-18 00:00:00+00:00  116.31250  4.606  338.739990  588.150024   \n",
      "2024-11-19 00:00:00+00:00  116.90625  4.565  346.000000  590.299988   \n",
      "2024-11-20 00:00:00+00:00  116.56250  4.592  342.029999  590.500000   \n",
      "2024-11-21 00:00:00+00:00  116.25000  4.622  339.640015  593.669983   \n",
      "\n",
      "                                  QQQ  \n",
      "Date                                   \n",
      "2019-11-25 00:00:00+00:00  197.948532  \n",
      "2019-11-26 00:00:00+00:00  198.326523  \n",
      "2019-11-27 00:00:00+00:00  199.712631  \n",
      "2019-11-29 00:00:00+00:00  198.801483  \n",
      "2019-12-02 00:00:00+00:00  196.765976  \n",
      "...                               ...  \n",
      "2024-11-15 00:00:00+00:00  496.570007  \n",
      "2024-11-18 00:00:00+00:00  500.019989  \n",
      "2024-11-19 00:00:00+00:00  503.459991  \n",
      "2024-11-20 00:00:00+00:00  503.170013  \n",
      "2024-11-21 00:00:00+00:00  504.980011  \n",
      "\n",
      "[1258 rows x 5 columns]\n"
     ]
    }
   ],
   "source": [
    "print(adj_close_df)"
   ]
  },
  {
   "cell_type": "markdown",
   "metadata": {},
   "source": [
    "## Calculate LogNormal Returns"
   ]
  },
  {
   "cell_type": "code",
   "execution_count": 6,
   "metadata": {},
   "outputs": [],
   "source": [
    "log_returns = np.log(adj_close_df / adj_close_df.shift(1))"
   ]
  },
  {
   "cell_type": "code",
   "execution_count": null,
   "metadata": {},
   "outputs": [],
   "source": [
    "#Drop Missing Values\n",
    "log_returns = log_returns.dropna()"
   ]
  },
  {
   "cell_type": "markdown",
   "metadata": {},
   "source": [
    "Calculate Covariance Matrix"
   ]
  },
  {
   "cell_type": "code",
   "execution_count": 8,
   "metadata": {},
   "outputs": [
    {
     "name": "stdout",
     "output_type": "stream",
     "text": [
      "          ZB=F      ^TYX      TSLA       SPY       QQQ\n",
      "ZB=F  0.000057 -0.000170  0.000003 -0.000011 -0.000006\n",
      "^TYX -0.000170  0.000728  0.000061  0.000086  0.000066\n",
      "TSLA  0.000003  0.000061  0.001761  0.000284  0.000407\n",
      "SPY  -0.000011  0.000086  0.000284  0.000176  0.000199\n",
      "QQQ  -0.000006  0.000066  0.000407  0.000199  0.000261\n"
     ]
    }
   ],
   "source": [
    "cov_matrix = log_returns.cov()\n",
    "print(cov_matrix)"
   ]
  },
  {
   "cell_type": "markdown",
   "metadata": {},
   "source": [
    "Calculate standard Deviation, expected return, and Sharpe Ratop of the Porfolio"
   ]
  },
  {
   "cell_type": "code",
   "execution_count": null,
   "metadata": {},
   "outputs": [],
   "source": [
    "# combined volatility of the assets in the porfolio taking into account of their individual volatilities and occrelation with each other.\n",
    "def standard_deviation(weights, cov_matrix):\n",
    "    variance = weights.T @ cov_matrix @ weights\n",
    "    return np.sqrt(variance)\n",
    "# Expected Returns based of of historical returns\n",
    "def expected_return(weights, log_returns):\n",
    "    return np.sum(log_returns.mean()*weights)*252\n",
    "# define sharpe Ratio\n",
    "def sharpe_ratio(weights, log_returns, cov_matrix, risk_free_rate):\n",
    "    return (expected_return(weights, log_returns) - risk_free_rate) / standard_deviation(weights, cov_matrix)"
   ]
  },
  {
   "cell_type": "markdown",
   "metadata": {},
   "source": [
    "Sharpe Ratio Formula"
   ]
  },
  {
   "attachments": {
    "image.png": {
     "image/png": "[encoded data removed]"
    }
   },
   "cell_type": "markdown",
   "metadata": {},
   "source": [
    "![image.png](attachment:image.png)"
   ]
  },
  {
   "cell_type": "code",
   "execution_count": null,
   "metadata": {},
   "outputs": [
    {
     "name": "stdout",
     "output_type": "stream",
     "text": [
      "0.040999999999999995\n"
     ]
    }
   ],
   "source": [
    "from fredapi import Fred \n",
    "# Todays Risk Free Rate\n",
    "fred = Fred(api_key = '11cc0017463924b9c382157340ff1539')\n",
    "ten_year_tresury_rate = fred.get_series_latest_release('GS10') / 100\n",
    "\n",
    "risk_free_rate = ten_year_tresury_rate.iloc[-1]\n",
    "print(risk_free_rate)\n",
    "# from the results import into risk_free_value"
   ]
  },
  {
   "cell_type": "code",
   "execution_count": null,
   "metadata": {},
   "outputs": [],
   "source": [
    "\n",
    "risk_free_rate = 0.040999999999999995\n",
    "# Define negative Sharpe Ratio (function to minimize)\n",
    "def neg_sharpe_ratio(weights, log_returns, cov_matrix, risk_free_rate):\n",
    "    return -sharpe_ratio(weights, log_returns, cov_matrix, risk_free_rate)\n",
    "#Define Constraints, bounds, and initial weights\n",
    "constraints = {'type': 'eq', 'fun': lambda weights: np.sum(weights) - 1}\n",
    "bounds = [(0, 0.4) for _ in range(len(tickers))]\n",
    "initial_weights = np.array([1/len(tickers)]*len(tickers))\n",
    "# Optimize weights to maximize Sharpe Ratio using Sequential Least Squares Quadratic Programing method\n",
    "optimized_results = minimize(neg_sharpe_ratio, initial_weights, args=(log_returns, cov_matrix, risk_free_rate), method='SLSQP', constraints=constraints, bounds=bounds)"
   ]
  },
  {
   "cell_type": "code",
   "execution_count": null,
   "metadata": {},
   "outputs": [
    {
     "name": "stdout",
     "output_type": "stream",
     "text": [
      "Optimal Weights:\n",
      "ZB=F: 0.0000\n",
      "^TYX: 0.2097\n",
      "TSLA: 0.4000\n",
      "SPY: 0.0000\n",
      "QQQ: 0.3903\n",
      "Expected Annual Return: 0.3220\n",
      "Expected Volatility: 0.0224\n",
      "Sharpe Ratio: 12.5447\n"
     ]
    }
   ],
   "source": [
    "#set optimal weights from results \n",
    "optimal_weights = optimized_results.x\n",
    "\n",
    "print(\"Optimal Weights:\")\n",
    "\n",
    "for ticker, weight in zip(tickers, optimal_weights):\n",
    "    print(f\"{ticker}: {weight:.4f}\")\n",
    "#set porfolio functions and print results\n",
    "optimal_portfolio_return = expected_return(optimal_weights, log_returns)\n",
    "optimal_portfolio_volatility = standard_deviation(optimal_weights, cov_matrix)\n",
    "optimal_sharpe_ratio = sharpe_ratio(optimal_weights, log_returns, cov_matrix, risk_free_rate)\n",
    "\n",
    "print(f\"Expected Annual Return: {optimal_portfolio_return:.4f}\")\n",
    "print(f\"Expected Volatility: {optimal_portfolio_volatility:.4f}\")\n",
    "print(f\"Sharpe Ratio: {optimal_sharpe_ratio:.4f}\")"
   ]
  },
  {
   "cell_type": "markdown",
   "metadata": {},
   "source": [
    "## Conclusion\n",
    "Our Sharpe Ratio Value is highly exceptional with a expected annual return of 32% which is 20 percent higher than the annual average. Given the optimal weights it is best to remove ZB=F and SPY from the porfolio and look for more optimal stocks for higher returns."
   ]
  },
  {
   "cell_type": "markdown",
   "metadata": {},
   "source": [
    "## Plot Results"
   ]
  },
  {
   "cell_type": "code",
   "execution_count": 12,
   "metadata": {},
   "outputs": [
    {
     "data": {
      "image/png": "[encoded data removed]",
      "text/plain": [
       "<Figure size 1000x600 with 1 Axes>"
      ]
     },
     "metadata": {},
     "output_type": "display_data"
    }
   ],
   "source": [
    "import matplotlib.pyplot as plt\n",
    "\n",
    "plt.figure(figsize=(10, 6))\n",
    "plt.bar(tickers, optimal_weights)\n",
    "\n",
    "plt.xlabel('Assets')\n",
    "plt.ylabel('Optimal Weights')\n",
    "plt.title('Optimal Portfolio Weights')\n",
    "\n",
    "plt.show()"
   ]
  }
 ],
 "metadata": {
  "kernelspec": {
   "display_name": "Python 3",
   "language": "python",
   "name": "python3"
  },
  "language_info": {
   "codemirror_mode": {
    "name": "ipython",
    "version": 3
   },
   "file_extension": ".py",
   "mimetype": "text/x-python",
   "name": "python",
   "nbconvert_exporter": "python",
   "pygments_lexer": "ipython3",
   "version": "3.10.11"
  }
 },
 "nbformat": 4,
 "nbformat_minor": 2
}
